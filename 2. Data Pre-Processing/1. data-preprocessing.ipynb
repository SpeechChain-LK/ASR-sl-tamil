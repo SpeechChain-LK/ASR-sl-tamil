{
 "cells": [
  {
   "cell_type": "code",
   "execution_count": 1,
   "id": "bd1523aa",
   "metadata": {},
   "outputs": [
    {
     "name": "stdout",
     "output_type": "stream",
     "text": [
      "Rows with missing values saved to missing_values_male.tsv\n",
      "Rows with duplicates saved to duplicates_male.tsv\n",
      "Cleaned data saved to cleaned_data_male.tsv\n"
     ]
    }
   ],
   "source": [
    "import pandas as pd\n",
    "\n",
    "# Read the file into a DataFrame\n",
    "file_path = \"line_index_male.tsv\"  # Replace with your actual file path\n",
    "df = pd.read_csv(file_path, sep=\"\\t\", header=None, names=[\"ID\", \"Text\"])\n",
    "\n",
    "# Check for missing values in the 'Text' column\n",
    "missing_values = df[df[\"Text\"].isnull() | (df[\"Text\"] == '')]\n",
    "\n",
    "# Check for duplicate values in the 'ID' or 'Text' column (you can choose either)\n",
    "duplicates = df[df.duplicated(subset=[\"ID\", \"Text\"], keep=False)]\n",
    "\n",
    "# Save missing values to a separate file for review\n",
    "missing_values_file = \"missing_values_male.tsv\"\n",
    "missing_values.to_csv(missing_values_file, sep=\"\\t\", index=False, header=False)\n",
    "print(f\"Rows with missing values saved to {missing_values_file}\")\n",
    "\n",
    "# Save duplicate values to a separate file for review\n",
    "duplicates_file = \"duplicates_male.tsv\"\n",
    "duplicates.to_csv(duplicates_file, sep=\"\\t\", index=False, header=False)\n",
    "print(f\"Rows with duplicates saved to {duplicates_file}\")\n",
    "\n",
    "# Now, you can decide what to do with these rows. For example:\n",
    "# Option 1: Remove rows with missing values\n",
    "df_cleaned = df.dropna(subset=[\"Text\"])\n",
    "\n",
    "# Option 2: Remove duplicates if you want\n",
    "df_cleaned = df_cleaned.drop_duplicates(subset=[\"ID\", \"Text\"])\n",
    "\n",
    "# Save the cleaned DataFrame back to a new TSV file\n",
    "output_file = \"cleaned_data_male.tsv\"  # Specify the output file name\n",
    "df_cleaned.to_csv(output_file, sep=\"\\t\", index=False, header=False)\n",
    "\n",
    "print(f\"Cleaned data saved to {output_file}\")\n"
   ]
  },
  {
   "cell_type": "code",
   "execution_count": null,
   "id": "221ef102",
   "metadata": {},
   "outputs": [
    {
     "name": "stdout",
     "output_type": "stream",
     "text": [
      "Rows with missing values saved to missing_values_female.tsv\n",
      "Rows with duplicates saved to duplicates_female.tsv\n",
      "Cleaned data saved to cleaned_data_female.tsv\n"
     ]
    }
   ],
   "source": [
    "import pandas as pd\n",
    "\n",
    "# Read the file into a DataFrame\n",
    "file_path = \"line_index_female.tsv\"  # Replace with your actual file path\n",
    "df = pd.read_csv(file_path, sep=\"\\t\", header=None, names=[\"ID\", \"Text\"])\n",
    "\n",
    "# Check for missing values in the 'Text' column\n",
    "missing_values = df[df[\"Text\"].isnull() | (df[\"Text\"] == '')]\n",
    "\n",
    "# Check for duplicate values in the 'ID' or 'Text' column (you can choose either)\n",
    "duplicates = df[df.duplicated(subset=[\"ID\", \"Text\"], keep=False)]\n",
    "\n",
    "# Save missing values to a separate file for review\n",
    "missing_values_file = \"missing_values_female.tsv\"\n",
    "missing_values.to_csv(missing_values_file, sep=\"\\t\", index=False, header=False)\n",
    "print(f\"Rows with missing values saved to {missing_values_file}\")\n",
    "\n",
    "# Save duplicate values to a separate file for review\n",
    "duplicates_file = \"duplicates_female.tsv\"\n",
    "duplicates.to_csv(duplicates_file, sep=\"\\t\", index=False, header=False)\n",
    "print(f\"Rows with duplicates saved to {duplicates_file}\")\n",
    "\n",
    "# Now, you can decide what to do with these rows. For example:\n",
    "# Option 1: Remove rows with missing values\n",
    "df_cleaned = df.dropna(subset=[\"Text\"])\n",
    "\n",
    "# Option 2: Remove duplicates if you want\n",
    "df_cleaned = df_cleaned.drop_duplicates(subset=[\"ID\", \"Text\"])\n",
    "\n",
    "# Save the cleaned DataFrame back to a new TSV file\n",
    "output_file = \"cleaned_data_female.tsv\"  # Specify the output file name\n",
    "df_cleaned.to_csv(output_file, sep=\"\\t\", index=False, header=False)\n",
    "\n",
    "print(f\"Cleaned data saved to {output_file}\")\n"
   ]
  },
  {
   "cell_type": "code",
   "execution_count": 4,
   "id": "1254cbce",
   "metadata": {},
   "outputs": [
    {
     "name": "stdout",
     "output_type": "stream",
     "text": [
      "Combined data saved to cleaned_data.tsv\n"
     ]
    }
   ],
   "source": [
    "import pandas as pd\n",
    "\n",
    "# Read the cleaned male and female data\n",
    "male_df = pd.read_csv(\"cleaned_data_male.tsv\", sep=\"\\t\", header=None, names=[\"ID\", \"Text\"])\n",
    "female_df = pd.read_csv(\"cleaned_data_female.tsv\", sep=\"\\t\", header=None, names=[\"ID\", \"Text\"])\n",
    "\n",
    "# Combine the DataFrames\n",
    "combined_df = pd.concat([male_df, female_df], ignore_index=True)\n",
    "\n",
    "# Optionally, remove duplicates if needed\n",
    "combined_df = combined_df.drop_duplicates(subset=[\"ID\", \"Text\"])\n",
    "\n",
    "# Save to a new TSV file\n",
    "combined_df.to_csv(\"cleaned_data.tsv\", sep=\"\\t\", index=False, header=False)\n",
    "\n",
    "print(\"Combined data saved to cleaned_data.tsv\")"
   ]
  }
 ],
 "metadata": {
  "kernelspec": {
   "display_name": "Python 3",
   "language": "python",
   "name": "python3"
  },
  "language_info": {
   "codemirror_mode": {
    "name": "ipython",
    "version": 3
   },
   "file_extension": ".py",
   "mimetype": "text/x-python",
   "name": "python",
   "nbconvert_exporter": "python",
   "pygments_lexer": "ipython3",
   "version": "3.11.9"
  }
 },
 "nbformat": 4,
 "nbformat_minor": 5
}
