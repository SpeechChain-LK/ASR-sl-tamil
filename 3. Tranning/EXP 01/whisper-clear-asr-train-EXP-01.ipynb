{
 "cells": [
  {
   "cell_type": "code",
   "execution_count": null,
   "metadata": {
    "_cell_guid": "b1076dfc-b9ad-4769-8c92-a6c4dae69d19",
    "_uuid": "8f2839f25d086af736a60e9eeb907d3b93b6e0e5",
    "execution": {
     "iopub.execute_input": "2025-07-06T08:40:18.973675Z",
     "iopub.status.busy": "2025-07-06T08:40:18.973445Z",
     "iopub.status.idle": "2025-07-06T08:41:49.859217Z",
     "shell.execute_reply": "2025-07-06T08:41:49.858241Z",
     "shell.execute_reply.started": "2025-07-06T08:40:18.973651Z"
    },
    "trusted": true
   },
   "outputs": [],
   "source": [
    "# Install PyTorch with GPU support (CUDA 11.8 version)\n",
    "%pip install torch torchvision torchaudio --index-url https://download.pytorch.org/whl/cu118\n",
    "\n",
    "import torch\n",
    "print(\"CUDA Available:\", torch.cuda.is_available())  # Should be True\n",
    "print(\"GPU:\", torch.cuda.get_device_name(0))  # Should print Quadro RTX 4000"
   ]
  },
  {
   "cell_type": "code",
   "execution_count": null,
   "metadata": {
    "execution": {
     "iopub.execute_input": "2025-07-06T08:41:49.860707Z",
     "iopub.status.busy": "2025-07-06T08:41:49.860393Z",
     "iopub.status.idle": "2025-07-06T08:42:16.351043Z",
     "shell.execute_reply": "2025-07-06T08:42:16.350292Z",
     "shell.execute_reply.started": "2025-07-06T08:41:49.860671Z"
    },
    "trusted": true
   },
   "outputs": [],
   "source": [
    "%pip install transformers datasets evaluate jiwer\n",
    "%pip install librosa scikit-learn pandas\n",
    "%pip install soundfile\n",
    "%pip install tensorboard"
   ]
  },
  {
   "cell_type": "code",
   "execution_count": null,
   "metadata": {
    "execution": {
     "iopub.execute_input": "2025-07-06T08:42:16.353083Z",
     "iopub.status.busy": "2025-07-06T08:42:16.352551Z",
     "iopub.status.idle": "2025-07-06T08:42:16.451081Z",
     "shell.execute_reply": "2025-07-06T08:42:16.450516Z",
     "shell.execute_reply.started": "2025-07-06T08:42:16.353064Z"
    },
    "trusted": true
   },
   "outputs": [],
   "source": [
    "import pandas as pd\n",
    "from sklearn.model_selection import train_test_split\n",
    "\n",
    "# Load TSV\n",
    "df = pd.read_csv(\"updated_file.tsv\", sep=\"\\t\", names=[\"audio\", \"sentence\"])\n",
    "\n",
    "# Add file extension if missing\n",
    "df[\"audio\"] = df[\"audio\"].apply(lambda x: f\"{x}.wav\")\n",
    "\n",
    "# Optionally prepend path if needed:\n",
    "# df[\"audio\"] = df[\"audio\"].apply(lambda x: f\"./audio_folder/{x}\")\n",
    "\n",
    "# Train-validation split\n",
    "train_df, val_df = train_test_split(df, test_size=0.1, random_state=42)\n",
    "\n",
    "# Optional: save for reference\n",
    "train_df.to_csv(\"train.csv\", index=False)\n",
    "val_df.to_csv(\"val.csv\", index=False)"
   ]
  },
  {
   "cell_type": "code",
   "execution_count": null,
   "metadata": {
    "execution": {
     "iopub.execute_input": "2025-07-06T08:42:16.452124Z",
     "iopub.status.busy": "2025-07-06T08:42:16.451841Z",
     "iopub.status.idle": "2025-07-06T08:43:11.459403Z",
     "shell.execute_reply": "2025-07-06T08:43:11.458692Z",
     "shell.execute_reply.started": "2025-07-06T08:42:16.452093Z"
    },
    "trusted": true
   },
   "outputs": [],
   "source": [
    "from datasets import Dataset, Audio\n",
    "\n",
    "train_dataset = Dataset.from_pandas(train_df)\n",
    "val_dataset = Dataset.from_pandas(val_df)\n",
    "\n",
    "# Cast audio with target sampling rate\n",
    "train_dataset = train_dataset.cast_column(\"audio\", Audio(sampling_rate=16000))\n",
    "val_dataset = val_dataset.cast_column(\"audio\", Audio(sampling_rate=16000))"
   ]
  },
  {
   "cell_type": "code",
   "execution_count": null,
   "metadata": {},
   "outputs": [],
   "source": [
    "print(train_dataset[0][\"audio\"])"
   ]
  },
  {
   "cell_type": "code",
   "execution_count": null,
   "metadata": {
    "execution": {
     "iopub.execute_input": "2025-07-06T08:43:11.460804Z",
     "iopub.status.busy": "2025-07-06T08:43:11.460150Z",
     "iopub.status.idle": "2025-07-06T08:43:13.328188Z",
     "shell.execute_reply": "2025-07-06T08:43:13.327412Z",
     "shell.execute_reply.started": "2025-07-06T08:43:11.460775Z"
    },
    "trusted": true
   },
   "outputs": [],
   "source": [
    "from transformers import WhisperFeatureExtractor, WhisperTokenizer, WhisperProcessor\n",
    "\n",
    "feature_extractor = WhisperFeatureExtractor.from_pretrained(\"openai/whisper-base\")\n",
    "tokenizer = WhisperTokenizer.from_pretrained(\"openai/whisper-base\", language=\"ta\", task=\"transcribe\")\n",
    "processor = WhisperProcessor.from_pretrained(\"openai/whisper-base\", language=\"ta\", task=\"transcribe\")\n",
    "\n",
    "print(train_df.columns)"
   ]
  },
  {
   "cell_type": "code",
   "execution_count": null,
   "metadata": {
    "execution": {
     "iopub.execute_input": "2025-07-06T08:43:13.329417Z",
     "iopub.status.busy": "2025-07-06T08:43:13.329080Z",
     "iopub.status.idle": "2025-07-06T08:44:23.548547Z",
     "shell.execute_reply": "2025-07-06T08:44:23.547668Z",
     "shell.execute_reply.started": "2025-07-06T08:43:13.329395Z"
    },
    "trusted": true
   },
   "outputs": [],
   "source": [
    "def prepare_dataset(examples):\n",
    "    # compute log-Mel input features from input audio array\n",
    "    audio = examples[\"audio\"]\n",
    "    examples[\"input_features\"] = feature_extractor(\n",
    "        audio[\"array\"], sampling_rate=16000).input_features[0]\n",
    "    del examples[\"audio\"]\n",
    "    sentences = examples[\"sentence\"]\n",
    "\n",
    "    # encode target text to label ids\n",
    "    examples[\"labels\"] = tokenizer(sentences).input_ids\n",
    "    del examples[\"sentence\"]\n",
    "    return examples"
   ]
  },
  {
   "cell_type": "code",
   "execution_count": null,
   "metadata": {},
   "outputs": [],
   "source": [
    "train_dataset = train_dataset.map(prepare_dataset, num_proc=1)\n",
    "val_dataset = val_dataset.map(prepare_dataset, num_proc=1)"
   ]
  },
  {
   "cell_type": "code",
   "execution_count": null,
   "metadata": {},
   "outputs": [],
   "source": [
    "import torch\n",
    "\n",
    "from dataclasses import dataclass\n",
    "from typing import Any, Dict, List, Union\n",
    "\n",
    "@dataclass\n",
    "class DataCollatorSpeechSeq2SeqWithPadding:\n",
    "    processor: Any\n",
    "    def __call__(self, features: List[Dict[str, Union[List[int], torch.Tensor]]]) -> Dict[str, torch.Tensor]:\n",
    "        # split inputs and labels since they have to be of different lengths and need different padding methods\n",
    "        # first treat the audio inputs by simply returning torch tensors\n",
    "        input_features = [{\"input_features\": feature[\"input_features\"]} for feature in features]\n",
    "        batch = self.processor.feature_extractor.pad(input_features, return_tensors=\"pt\")\n",
    "        # get the tokenized label sequences\n",
    "        label_features = [{\"input_ids\": feature[\"labels\"]} for feature in features]\n",
    "        # pad the labels to max length\n",
    "        labels_batch = self.processor.tokenizer.pad(label_features, return_tensors=\"pt\")\n",
    "        # replace padding with -100 to ignore loss correctly\n",
    "        labels = labels_batch[\"input_ids\"].masked_fill(labels_batch.attention_mask.ne(1), -100)\n",
    "        # if bos token is appended in previous tokenization step,\n",
    "        # cut bos token here as it's append later anyways\n",
    "        if (labels[:, 0] == self.processor.tokenizer.bos_token_id).all().cpu().item():\n",
    "            labels = labels[:, 1:]\n",
    "        batch[\"labels\"] = labels\n",
    "        return batch\n",
    "\n",
    "## lets initiate the data collator\n",
    "data_collator = DataCollatorSpeechSeq2SeqWithPadding(processor=processor)\n"
   ]
  },
  {
   "cell_type": "code",
   "execution_count": null,
   "metadata": {},
   "outputs": [],
   "source": [
    "! pip install evaluate jiwer\n",
    "\n",
    "import evaluate\n",
    "metric = evaluate.load(\"wer\")"
   ]
  },
  {
   "cell_type": "code",
   "execution_count": null,
   "metadata": {},
   "outputs": [],
   "source": [
    "from jiwer import wer, cer, mer\n",
    "\n",
    "def compute_metrics(pred):\n",
    "    pred_ids = pred.predictions\n",
    "    label_ids = pred.label_ids\n",
    "\n",
    "    # Replace -100 with pad_token_id\n",
    "    label_ids[label_ids == -100] = tokenizer.pad_token_id\n",
    "\n",
    "    # Decode token IDs to strings\n",
    "    pred_str = tokenizer.batch_decode(pred_ids, skip_special_tokens=True)\n",
    "    label_str = tokenizer.batch_decode(label_ids, skip_special_tokens=True)\n",
    "\n",
    "    # WER, CER, MER\n",
    "    wer_score = wer(label_str, pred_str) * 100\n",
    "    cer_score = cer(label_str, pred_str) * 100\n",
    "    mer_score = mer(label_str, pred_str) * 100\n",
    "\n",
    "    # SER: Sentence Error Rate = % of completely incorrect sentences\n",
    "    ser_score = (\n",
    "        sum(ref.strip() != pred.strip() for ref, pred in zip(label_str, pred_str))\n",
    "        / len(label_str)\n",
    "    ) * 100\n",
    "\n",
    "    return {\n",
    "        \"wer\": wer_score,\n",
    "        \"cer\": cer_score,\n",
    "        \"ter\": mer_score,  # Same as MER\n",
    "        \"ser\": ser_score,\n",
    "    }"
   ]
  },
  {
   "cell_type": "code",
   "execution_count": null,
   "metadata": {},
   "outputs": [],
   "source": [
    "%pip install \"accelerate>=0.26.0\"\n",
    "%pip install transformers[torch]"
   ]
  },
  {
   "cell_type": "code",
   "execution_count": null,
   "metadata": {},
   "outputs": [],
   "source": [
    "# Load a Pre-Trained Checkpoint\n",
    "from transformers import WhisperForConditionalGeneration\n",
    "model = WhisperForConditionalGeneration.from_pretrained(\"openai/whisper-base\")\n"
   ]
  },
  {
   "cell_type": "code",
   "execution_count": null,
   "metadata": {
    "execution": {
     "iopub.execute_input": "2025-07-06T08:44:23.550387Z",
     "iopub.status.busy": "2025-07-06T08:44:23.549875Z",
     "iopub.status.idle": "2025-07-06T08:44:23.557285Z",
     "shell.execute_reply": "2025-07-06T08:44:23.556535Z",
     "shell.execute_reply.started": "2025-07-06T08:44:23.550365Z"
    },
    "trusted": true
   },
   "outputs": [],
   "source": [
    "from transformers import Seq2SeqTrainingArguments\n",
    "\n",
    "training_args = Seq2SeqTrainingArguments(\n",
    "    output_dir=\"./whisper-base-ta\", \n",
    "    per_device_train_batch_size=48,\n",
    "    gradient_accumulation_steps=1, \n",
    "    learning_rate=1.7e-05,\n",
    "    warmup_steps=500,\n",
    "    gradient_checkpointing=True,\n",
    "    fp16=True,\n",
    "    eval_strategy=\"epoch\",\n",
    "    save_strategy=\"steps\",\n",
    "    num_train_epochs=10,\n",
    "    per_device_eval_batch_size=32,\n",
    "    predict_with_generate=True,\n",
    "    save_steps=3,\n",
    "    save_total_limit=3,\n",
    "    logging_steps=25,\n",
    "    report_to=[\"tensorboard\"],\n",
    "    metric_for_best_model=\"wer\",\n",
    "    greater_is_better=False,\n",
    ")"
   ]
  },
  {
   "cell_type": "code",
   "execution_count": null,
   "metadata": {},
   "outputs": [],
   "source": [
    "from transformers import Seq2SeqTrainer\n",
    "\n",
    "trainer = Seq2SeqTrainer(\n",
    "    args=training_args,\n",
    "    model=model,\n",
    "    train_dataset=train_dataset,\n",
    "    eval_dataset=val_dataset,\n",
    "    data_collator=data_collator,\n",
    "    compute_metrics=compute_metrics,\n",
    "    tokenizer=processor.feature_extractor,\n",
    ")\n",
    "\n",
    "\n"
   ]
  },
  {
   "cell_type": "code",
   "execution_count": null,
   "metadata": {},
   "outputs": [],
   "source": [
    "trainer.train()"
   ]
  },
  {
   "cell_type": "code",
   "execution_count": null,
   "metadata": {},
   "outputs": [],
   "source": [
    "trainer.train(resume_from_checkpoint=True)"
   ]
  },
  {
   "cell_type": "code",
   "execution_count": null,
   "metadata": {},
   "outputs": [],
   "source": [
    "# Save model\n",
    "model.save_pretrained(\"./whisper-tamil-model\")\n",
    "\n",
    "# Save processor (feature extractor + tokenizer)\n",
    "processor.save_pretrained(\"./whisper-tamil-model\")"
   ]
  },
  {
   "cell_type": "code",
   "execution_count": null,
   "metadata": {
    "execution": {
     "iopub.execute_input": "2025-07-06T08:44:23.560130Z",
     "iopub.status.busy": "2025-07-06T08:44:23.559600Z",
     "iopub.status.idle": "2025-07-06T08:44:23.572804Z",
     "shell.execute_reply": "2025-07-06T08:44:23.571952Z",
     "shell.execute_reply.started": "2025-07-06T08:44:23.560099Z"
    },
    "trusted": true
   },
   "outputs": [],
   "source": [
    "from transformers import WhisperProcessor, WhisperForConditionalGeneration\n",
    "import torchaudio\n",
    "import torch\n",
    "\n",
    "# Load model and processor\n",
    "processor = WhisperProcessor.from_pretrained(\"whisper-tamil-model\")\n",
    "model = WhisperForConditionalGeneration.from_pretrained(\"whisper-tamil-model\")\n",
    "\n",
    "# Move model to GPU if available\n",
    "device = \"cuda\" if torch.cuda.is_available() else \"cpu\"\n",
    "model.to(device)\n",
    "\n",
    "# Load Tamil audio file\n",
    "waveform, sr = torchaudio.load(\"male data/tag_00023_00002135809.wav\")\n",
    "if sr != 16000:\n",
    "    waveform = torchaudio.transforms.Resample(sr, 16000)(waveform)\n",
    "\n",
    "# Mono channel\n",
    "if waveform.shape[0] > 1:\n",
    "    waveform = waveform.mean(dim=0, keepdim=True)\n",
    "\n",
    "input_features = processor.feature_extractor(waveform.squeeze().numpy(), sampling_rate=16000, return_tensors=\"pt\").input_features.to(device)\n",
    "\n",
    "# Generate transcription\n",
    "predicted_ids = model.generate(input_features)\n",
    "transcription = processor.tokenizer.batch_decode(predicted_ids, skip_special_tokens=True)[0]\n",
    "\n",
    "print(\"🗣️ Transcription:\", transcription)"
   ]
  }
 ],
 "metadata": {
  "kaggle": {
   "accelerator": "nvidiaTeslaT4",
   "dataSources": [
    {
     "datasetId": 7798388,
     "sourceId": 12368553,
     "sourceType": "datasetVersion"
    },
    {
     "datasetId": 7799096,
     "sourceId": 12369551,
     "sourceType": "datasetVersion"
    },
    {
     "datasetId": 7810055,
     "sourceId": 12385975,
     "sourceType": "datasetVersion"
    }
   ],
   "dockerImageVersionId": 31041,
   "isGpuEnabled": true,
   "isInternetEnabled": true,
   "language": "python",
   "sourceType": "notebook"
  },
  "kernelspec": {
   "display_name": "Python 3",
   "language": "python",
   "name": "python3"
  },
  "language_info": {
   "codemirror_mode": {
    "name": "ipython",
    "version": 3
   },
   "file_extension": ".py",
   "mimetype": "text/x-python",
   "name": "python",
   "nbconvert_exporter": "python",
   "pygments_lexer": "ipython3",
   "version": "3.11.11"
  }
 },
 "nbformat": 4,
 "nbformat_minor": 4
}
